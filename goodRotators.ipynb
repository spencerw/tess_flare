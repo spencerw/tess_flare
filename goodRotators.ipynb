{
 "cells": [
  {
   "cell_type": "code",
   "execution_count": 1,
   "metadata": {},
   "outputs": [],
   "source": [
    "%matplotlib inline\n",
    "import matplotlib.pylab as plt\n",
    "import numpy as np\n",
    "import pandas as pd\n",
    "import astropy.units as u"
   ]
  },
  {
   "cell_type": "code",
   "execution_count": 2,
   "metadata": {},
   "outputs": [],
   "source": [
    "df_flare = pd.read_csv('allsky_flare_out.csv')\n",
    "df_param = pd.read_csv('allsky_param_out.csv')\n",
    "df_param['rot_per'] = np.exp(df_param['log_P'])"
   ]
  },
  {
   "cell_type": "code",
   "execution_count": 3,
   "metadata": {},
   "outputs": [
    {
     "name": "stdout",
     "output_type": "stream",
     "text": [
      "475898 475097\n"
     ]
    }
   ],
   "source": [
    "# Throw out cases where gp fit failed\n",
    "mask = df_param['log_P'] > -15\n",
    "print(len(df_param), len(df_param[mask]))\n",
    "\n",
    "df_param = df_param[mask]"
   ]
  },
  {
   "cell_type": "code",
   "execution_count": 4,
   "metadata": {},
   "outputs": [
    {
     "name": "stdout",
     "output_type": "stream",
     "text": [
      "475097 84855\n"
     ]
    },
    {
     "data": {
      "image/png": "[encoded data removed]",
      "text/plain": [
       "<Figure size 432x288 with 1 Axes>"
      ]
     },
     "metadata": {
      "needs_background": "light"
     },
     "output_type": "display_data"
    }
   ],
   "source": [
    "# Since we restrict rotation period to be within 10% of\n",
    "# acf period, throw out cases where the gp fit hit the bounds\n",
    "acf_1dt = df_param['acf_1dt']\n",
    "rot_per = df_param['rot_per']\n",
    "\n",
    "plt.scatter(acf_1dt, rot_per)\n",
    "plt.xlabel('acf_1dt')\n",
    "plt.ylabel('gp rot_per')\n",
    "\n",
    "mask = (rot_per/acf_1dt > 0.9) & (rot_per/acf_1dt < 1.1)\n",
    "print(len(df_param), len(df_param[mask]))\n",
    "df_param = df_param[mask]"
   ]
  },
  {
   "cell_type": "code",
   "execution_count": 6,
   "metadata": {},
   "outputs": [
    {
     "data": {
      "text/plain": [
       "10874"
      ]
     },
     "execution_count": 6,
     "metadata": {},
     "output_type": "execute_result"
    }
   ],
   "source": [
    "# This might be a few too many for tyler to MCMC still\n",
    "# How many of these were flare stars?\n",
    "len(df_param[np.isin(df_param['TIC'], df_flare['TIC'])])"
   ]
  },
  {
   "cell_type": "code",
   "execution_count": null,
   "metadata": {},
   "outputs": [],
   "source": []
  }
 ],
 "metadata": {
  "kernelspec": {
   "display_name": "Python 3",
   "language": "python",
   "name": "python3"
  },
  "language_info": {
   "codemirror_mode": {
    "name": "ipython",
    "version": 3
   },
   "file_extension": ".py",
   "mimetype": "text/x-python",
   "name": "python",
   "nbconvert_exporter": "python",
   "pygments_lexer": "ipython3",
   "version": "3.7.3"
  }
 },
 "nbformat": 4,
 "nbformat_minor": 2
}
