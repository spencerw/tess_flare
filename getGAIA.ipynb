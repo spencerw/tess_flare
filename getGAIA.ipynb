{
 "cells": [
  {
   "cell_type": "code",
   "execution_count": 57,
   "metadata": {},
   "outputs": [],
   "source": [
    "%matplotlib inline\n",
    "import matplotlib as mpl\n",
    "import matplotlib.pylab as plt\n",
    "import numpy as np\n",
    "import pandas as pd\n",
    "import astropy.units as u\n",
    "\n",
    "mpl.rcParams.update({'font.size': 18, 'font.family': 'STIXGeneral', 'mathtext.fontset': 'stix',\n",
    "                            'image.cmap': 'viridis'})\n",
    "\n",
    "path = '/astro/store/gradscratch/tmp/scw7/tessData/lightcurves/all_lc/'"
   ]
  },
  {
   "cell_type": "code",
   "execution_count": 58,
   "metadata": {},
   "outputs": [],
   "source": [
    "sectors = [pd.read_csv('TESS-Gaia/gaiatess{0}_xmatch_1arsec-result.csv'.format(n+1)) for n in range(15)]\n",
    "\n",
    "data = pd.concat(sectors,sort=True)"
   ]
  },
  {
   "cell_type": "code",
   "execution_count": 59,
   "metadata": {},
   "outputs": [],
   "source": [
    "flares = pd.read_csv('1to13_param_out.csv')\n",
    "unique_tics = np.unique(flares['TIC'])\n",
    "\n",
    "data_dd = data.drop_duplicates('ticid')\n",
    "mask = data_dd['ticid'].isin(unique_tics)\n",
    "tess_gaia = data_dd[mask]"
   ]
  },
  {
   "cell_type": "code",
   "execution_count": 60,
   "metadata": {},
   "outputs": [
    {
     "name": "stdout",
     "output_type": "stream",
     "text": [
      "128258\n",
      "118939\n"
     ]
    }
   ],
   "source": [
    "print(len(unique_tics))\n",
    "print(len(data_dd[mask]))"
   ]
  },
  {
   "cell_type": "code",
   "execution_count": 61,
   "metadata": {},
   "outputs": [],
   "source": [
    "sorted_tess_gaia = tess_gaia.set_index('ticid')\n",
    "sorted_tess_gaia = sorted_tess_gaia.reindex(index=unique_tics)"
   ]
  },
  {
   "cell_type": "code",
   "execution_count": 62,
   "metadata": {},
   "outputs": [
    {
     "data": {
      "text/plain": [
       "ticid\n",
       "1078     816.675356\n",
       "1275     115.981798\n",
       "1307     113.297048\n",
       "1454    2064.530847\n",
       "1608     634.050963\n",
       "Name: r_est, dtype: float64"
      ]
     },
     "execution_count": 62,
     "metadata": {},
     "output_type": "execute_result"
    }
   ],
   "source": [
    "sorted_tess_gaia[0:5]['r_est']"
   ]
  },
  {
   "cell_type": "code",
   "execution_count": 63,
   "metadata": {},
   "outputs": [
    {
     "data": {
      "text/plain": [
       "ticid\n",
       "1078    1.289843\n",
       "1275    0.825689\n",
       "1307    1.015577\n",
       "1454    0.754116\n",
       "1608    1.268880\n",
       "dtype: float64"
      ]
     },
     "execution_count": 63,
     "metadata": {},
     "output_type": "execute_result"
    }
   ],
   "source": [
    "sorted_tess_gaia[0:5]['phot_bp_mean_mag'] - sorted_tess_gaia[0:5]['phot_rp_mean_mag']"
   ]
  },
  {
   "cell_type": "code",
   "execution_count": 76,
   "metadata": {},
   "outputs": [],
   "source": [
    "tics = unique_tics\n",
    "dist = sorted_tess_gaia['r_est'].values*u.pc\n",
    "Gbp_min_Grp = sorted_tess_gaia['phot_bp_mean_mag'] - sorted_tess_gaia['phot_rp_mean_mag']"
   ]
  },
  {
   "cell_type": "code",
   "execution_count": 77,
   "metadata": {},
   "outputs": [
    {
     "name": "stdout",
     "output_type": "stream",
     "text": [
      "Index(['Zini', 'MH', 'logAge', 'Mini', 'int_IMF', 'Mass', 'logL', 'logTe',\n",
      "       'logg', 'label', 'McoreTP', 'C_O', 'period0', 'period1', 'pmode',\n",
      "       'Mloss', 'tau1m', 'X', 'Y', 'Xc', 'Xn', 'Xo', 'Cexcess', 'Z', 'mbolmag',\n",
      "       'TESSmag', 'Jmag', 'Hmag', 'Ksmag', 'Keplermag', 'gmag', 'rmag', 'imag',\n",
      "       'zmag', 'DDO51_finfmag'],\n",
      "      dtype='object')\n",
      "Index(['Zini', 'MH', 'logAge', 'Mini', 'int_IMF', 'Mass', 'logL', 'logTe',\n",
      "       'logg', 'label', 'McoreTP', 'C_O', 'period0', 'period1', 'pmode',\n",
      "       'Mloss', 'tau1m', 'X', 'Y', 'Xc', 'Xn', 'Xo', 'Cexcess', 'Z', 'mbolmag',\n",
      "       'Gmag', 'G_BPbrmag', 'G_BPftmag', 'G_RPmag'],\n",
      "      dtype='object')\n"
     ]
    }
   ],
   "source": [
    "iso_table1 = pd.read_csv('output221284170243.dat.txt', comment='#', delim_whitespace=True)\n",
    "iso_table2 = pd.read_csv('output768246532491.dat.txt', comment='#', delim_whitespace=True)\n",
    "print(iso_table1.columns)\n",
    "print(iso_table2.columns)"
   ]
  },
  {
   "cell_type": "code",
   "execution_count": 78,
   "metadata": {},
   "outputs": [],
   "source": [
    "iso_table1['Gmag'] = iso_table2['Gmag']\n",
    "iso_table1['G_BPbrmag'] = iso_table2['G_BPbrmag']\n",
    "iso_table1['G_BPftmag'] = iso_table2['G_BPftmag']\n",
    "iso_table1['G_RPmag'] = iso_table2['G_RPmag']"
   ]
  },
  {
   "cell_type": "code",
   "execution_count": 79,
   "metadata": {},
   "outputs": [],
   "source": [
    "iso_table1.to_csv('isochrones.txt')"
   ]
  },
  {
   "cell_type": "code",
   "execution_count": 80,
   "metadata": {},
   "outputs": [
    {
     "name": "stdout",
     "output_type": "stream",
     "text": [
      "Index(['Unnamed: 0', 'Zini', 'MH', 'logAge', 'Mini', 'int_IMF', 'Mass', 'logL',\n",
      "       'logTe', 'logg', 'label', 'McoreTP', 'C_O', 'period0', 'period1',\n",
      "       'pmode', 'Mloss', 'tau1m', 'X', 'Y', 'Xc', 'Xn', 'Xo', 'Cexcess', 'Z',\n",
      "       'mbolmag', 'TESSmag', 'Jmag', 'Hmag', 'Ksmag', 'Keplermag', 'gmag',\n",
      "       'rmag', 'imag', 'zmag', 'DDO51_finfmag', 'Gmag', 'G_BPbrmag',\n",
      "       'G_BPftmag', 'G_RPmag'],\n",
      "      dtype='object')\n"
     ]
    }
   ],
   "source": [
    "iso = pd.read_csv('isochrones.txt')\n",
    "print(iso.columns)"
   ]
  },
  {
   "cell_type": "code",
   "execution_count": 99,
   "metadata": {},
   "outputs": [
    {
     "data": {
      "text/plain": [
       "<matplotlib.colorbar.Colorbar at 0x7fe6c03d4630>"
      ]
     },
     "execution_count": 99,
     "metadata": {},
     "output_type": "execute_result"
    },
    {
     "data": {
      "image/png": "[encoded data removed]",
      "text/plain": [
       "<Figure size 432x288 with 2 Axes>"
      ]
     },
     "metadata": {
      "needs_background": "light"
     },
     "output_type": "display_data"
    }
   ],
   "source": [
    "# These are absolute mags\n",
    "G_B = iso['G_BPbrmag'].values[::-1]\n",
    "G_R = iso['G_RPmag'].values[::-1]\n",
    "G_mag = iso['Gmag'].values[::-1]\n",
    "T = iso['TESSmag'].values[::-1]\n",
    "BminR = G_B - G_R\n",
    "mask = (G_B > 4) & (BminR > 0) & (BminR < 4.5)\n",
    "plt.scatter(BminR[mask], G_B[mask], c=T[mask])\n",
    "plt.gca().invert_yaxis()\n",
    "plt.xlabel('B_bp - G_rp')\n",
    "plt.ylabel('Gmag')\n",
    "plt.colorbar(label='TESS mag')\n",
    "\n",
    "TESS_mag_int = np.interp(Gbp_min_Grp, BminR[mask], T[mask])"
   ]
  },
  {
   "cell_type": "code",
   "execution_count": 106,
   "metadata": {},
   "outputs": [],
   "source": [
    "# Not sure to convert TESS mags into luminosity, lets just use GAIA G band for now\n",
    "G = sorted_tess_gaia['phot_g_mean_mag']\n",
    "Mbol = 4.74\n",
    "L = 10**((Mbol-G)/2.5)"
   ]
  },
  {
   "cell_type": "code",
   "execution_count": 107,
   "metadata": {},
   "outputs": [],
   "source": [
    "f_out = pd.DataFrame({'TIC':tics, 'dist':dist, 'lum':L, 'G_BPbrmag':sorted_tess_gaia['phot_bp_mean_mag'], 'G_RPmag':sorted_tess_gaia['phot_rp_mean_mag'], 'G_mag':sorted_tess_gaia['phot_g_mean_mag']})\n",
    "f_out.to_csv('ticGAIA.csv')"
   ]
  }
 ],
 "metadata": {
  "kernelspec": {
   "display_name": "Python 3",
   "language": "python",
   "name": "python3"
  },
  "language_info": {
   "codemirror_mode": {
    "name": "ipython",
    "version": 3
   },
   "file_extension": ".py",
   "mimetype": "text/x-python",
   "name": "python",
   "nbconvert_exporter": "python",
   "pygments_lexer": "ipython3",
   "version": "3.7.3"
  }
 },
 "nbformat": 4,
 "nbformat_minor": 2
}
