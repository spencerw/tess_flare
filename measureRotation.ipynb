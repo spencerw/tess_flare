{
 "cells": [
  {
   "cell_type": "code",
   "execution_count": 26,
   "metadata": {},
   "outputs": [],
   "source": [
    "import pandas as pd\n",
    "import numpy as np\n",
    "from flareTools import update_progress\n",
    "\n",
    "path = '/astro/store/gradscratch/tmp/scw7/tessData/lightcurves/sec1to13/gp/'"
   ]
  },
  {
   "cell_type": "code",
   "execution_count": 27,
   "metadata": {},
   "outputs": [],
   "source": [
    "df_param = pd.read_csv('1to13_param_out.csv')"
   ]
  },
  {
   "cell_type": "code",
   "execution_count": 28,
   "metadata": {},
   "outputs": [
    {
     "name": "stdout",
     "output_type": "stream",
     "text": [
      "Progress: [####################] 100.0%\n"
     ]
    }
   ],
   "source": [
    "log_w0_vals = []\n",
    "\n",
    "for idx, row in df_param.iterrows():\n",
    "    file = row['file']\n",
    "    \n",
    "    try:\n",
    "        gp_par = np.loadtxt(path + file + '.gp.par')\n",
    "        log_w0 = gp_par[-1]\n",
    "    except OSError:\n",
    "        log_w0 = -15\n",
    "    log_w0_vals.append(log_w0)\n",
    "    \n",
    "    update_progress(idx/len(df_param))"
   ]
  },
  {
   "cell_type": "code",
   "execution_count": 31,
   "metadata": {},
   "outputs": [],
   "source": [
    "df_param['log_w0'] = log_w0_vals"
   ]
  },
  {
   "cell_type": "code",
   "execution_count": 32,
   "metadata": {},
   "outputs": [],
   "source": [
    "df_param.to_csv('1to13_rot_param_out.csv')"
   ]
  },
  {
   "cell_type": "code",
   "execution_count": null,
   "metadata": {},
   "outputs": [],
   "source": []
  }
 ],
 "metadata": {
  "kernelspec": {
   "display_name": "Python 3",
   "language": "python",
   "name": "python3"
  },
  "language_info": {
   "codemirror_mode": {
    "name": "ipython",
    "version": 3
   },
   "file_extension": ".py",
   "mimetype": "text/x-python",
   "name": "python",
   "nbconvert_exporter": "python",
   "pygments_lexer": "ipython3",
   "version": "3.7.3"
  }
 },
 "nbformat": 4,
 "nbformat_minor": 2
}
