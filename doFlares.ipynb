{
 "cells": [
  {
   "cell_type": "code",
   "execution_count": 14,
   "metadata": {},
   "outputs": [],
   "source": [
    "%matplotlib inline\n",
    "import matplotlib as mpl\n",
    "import matplotlib.pyplot as plt\n",
    "import numpy as np\n",
    "import glob as gl\n",
    "\n",
    "from flarePipeline import procFlares"
   ]
  },
  {
   "cell_type": "code",
   "execution_count": 15,
   "metadata": {},
   "outputs": [],
   "source": [
    "sector = '7'\n",
    "path = '/astro/store/gradscratch/tmp/scw7/tessData/lightcurves/sec'+sector+'/'\n",
    "\n",
    "# Flare star candidates that Jim picked out\n",
    "files = ['tess2019006130736-s0007-0000000458616184-0131-s_lc.fits',\n",
    "         'tess2019006130736-s0007-0000000458648813-0131-s_lc.fits',\n",
    "         'tess2019006130736-s0007-0000000453002670-0131-s_lc.fits']\n",
    "\n",
    "filenames = [path + x for x in files]"
   ]
  },
  {
   "cell_type": "code",
   "execution_count": 16,
   "metadata": {},
   "outputs": [],
   "source": [
    "np.random.seed(0)\n",
    "\n",
    "all_files = gl.glob(path+'*.fits')\n",
    "\n",
    "num_rand = 500\n",
    "rand_files = np.random.choice(all_files, num_rand, replace=False)"
   ]
  },
  {
   "cell_type": "code",
   "execution_count": 17,
   "metadata": {},
   "outputs": [],
   "source": [
    "! rm *.jpeg"
   ]
  },
  {
   "cell_type": "code",
   "execution_count": 18,
   "metadata": {},
   "outputs": [
    {
     "name": "stdout",
     "output_type": "stream",
     "text": [
      "Progress: [####################] 100.0%\n",
      "765 flares found across 19995 files\n"
     ]
    }
   ],
   "source": [
    "procFlares(all_files, sector, makefig=False, clobber=True)"
   ]
  },
  {
   "cell_type": "code",
   "execution_count": null,
   "metadata": {},
   "outputs": [],
   "source": []
  }
 ],
 "metadata": {
  "kernelspec": {
   "display_name": "Python 3",
   "language": "python",
   "name": "python3"
  },
  "language_info": {
   "codemirror_mode": {
    "name": "ipython",
    "version": 3
   },
   "file_extension": ".py",
   "mimetype": "text/x-python",
   "name": "python",
   "nbconvert_exporter": "python",
   "pygments_lexer": "ipython3",
   "version": "3.7.3"
  }
 },
 "nbformat": 4,
 "nbformat_minor": 2
}
