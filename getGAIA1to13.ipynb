{
 "cells": [
  {
   "cell_type": "code",
   "execution_count": 1,
   "metadata": {},
   "outputs": [],
   "source": [
    "%matplotlib inline\n",
    "import matplotlib as mpl\n",
    "import matplotlib.pylab as plt\n",
    "import numpy as np\n",
    "import pandas as pd\n",
    "import astropy.units as u\n",
    "\n",
    "mpl.rcParams.update({'font.size': 18, 'font.family': 'STIXGeneral', 'mathtext.fontset': 'stix',\n",
    "                            'image.cmap': 'viridis'})\n",
    "\n",
    "path = '/astro/store/gradscratch/tmp/scw7/tessData/lightcurves/all_lc/'"
   ]
  },
  {
   "cell_type": "code",
   "execution_count": 2,
   "metadata": {},
   "outputs": [],
   "source": [
    "sectors = [pd.read_csv('TESS-Gaia/gaiatess{0}_xmatch_1arsec-result.csv'.format(n+1)) for n in range(15)]\n",
    "\n",
    "data = pd.concat(sectors,sort=True)"
   ]
  },
  {
   "cell_type": "code",
   "execution_count": 3,
   "metadata": {},
   "outputs": [],
   "source": [
    "flares = pd.read_csv('1to13_param_out.csv')\n",
    "unique_tics = np.unique(flares['TIC'])\n",
    "\n",
    "data_dd = data.drop_duplicates('ticid')\n",
    "\n",
    "tess_gaia = data_dd[np.isin(data_dd['ticid'], unique_tics)]"
   ]
  },
  {
   "cell_type": "code",
   "execution_count": 4,
   "metadata": {},
   "outputs": [
    {
     "data": {
      "text/plain": [
       "118887"
      ]
     },
     "execution_count": 4,
     "metadata": {},
     "output_type": "execute_result"
    }
   ],
   "source": [
    "len(tess_gaia)"
   ]
  },
  {
   "cell_type": "code",
   "execution_count": 5,
   "metadata": {},
   "outputs": [],
   "source": [
    "#sorted_tess_gaia = tess_gaia.set_index('ticid')\n",
    "#print(len(sorted_tess_gaia))\n",
    "#sorted_tess_gaia = sorted_tess_gaia.reindex(index=unique_tics, fill_value=0)\n",
    "#print(len(sorted_tess_gaia))"
   ]
  },
  {
   "cell_type": "code",
   "execution_count": 6,
   "metadata": {},
   "outputs": [
    {
     "data": {
      "text/plain": [
       "(118887, 118887)"
      ]
     },
     "execution_count": 6,
     "metadata": {},
     "output_type": "execute_result"
    }
   ],
   "source": [
    "len(tess_gaia), len(tess_gaia[tess_gaia['source_id'] > 0])"
   ]
  },
  {
   "cell_type": "code",
   "execution_count": 7,
   "metadata": {},
   "outputs": [
    {
     "data": {
      "text/plain": [
       "0        4613644974485983104\n",
       "1        4613782413441133696\n",
       "2        4613787700545468800\n",
       "3        4613787704840817664\n",
       "4        4613916485140439168\n",
       "5        4614483077225903232\n",
       "6        4614776676894701440\n",
       "7        4614836703357503104\n",
       "8        4614864607761106432\n",
       "9        4614897558749924352\n",
       "10       4614919308462547072\n",
       "11       4614931093854496640\n",
       "12       4614969851639215488\n",
       "13       4615026270329620608\n",
       "14       4615055854064590208\n",
       "15       4615110932725370624\n",
       "16       4615112032236982656\n",
       "17       4615164636996477696\n",
       "18       4615201775577968896\n",
       "19       4615252456190967424\n",
       "20       4615264623834941440\n",
       "21       4615337225962072448\n",
       "22       4615347911841098240\n",
       "23       4615407349891806336\n",
       "24       4615479127384787072\n",
       "25       4615487171860512384\n",
       "26       4615487996494226304\n",
       "27       4615518439222361856\n",
       "28       4615556475452740480\n",
       "29       4615559602188919552\n",
       "                ...         \n",
       "18539    6764567310746461824\n",
       "18540    6764585315249574016\n",
       "18541    6764666576031119488\n",
       "18542    6764678395781277056\n",
       "18543    6764694201260348160\n",
       "18544    6764717531523105408\n",
       "18545    6764736360659628672\n",
       "18546    6764749962816284160\n",
       "18547    6764754296443212032\n",
       "18548    6764766833447831040\n",
       "18549    6764834217194619392\n",
       "18550    6764855623312806784\n",
       "18551    6764873833973142144\n",
       "18552    6764884622931136512\n",
       "18553    6764887474789582080\n",
       "18554    6764902249476696960\n",
       "18555    6764986946231591296\n",
       "18556    6765003297167284736\n",
       "18557    6765015533533835136\n",
       "18558    6765059204761087744\n",
       "18559    6765062949972709888\n",
       "18560    6765068688049553152\n",
       "18561    6765078102617681152\n",
       "18562    6765081641670894848\n",
       "18563    6765118715827464832\n",
       "18564    6765146371119429376\n",
       "18565    6765539485184006912\n",
       "18566    6765558967156008832\n",
       "18567    6765574016721363328\n",
       "18568    6765585664672770432\n",
       "Name: source_id, Length: 118887, dtype: int64"
      ]
     },
     "execution_count": 7,
     "metadata": {},
     "output_type": "execute_result"
    }
   ],
   "source": [
    "tess_gaia['source_id']"
   ]
  },
  {
   "cell_type": "code",
   "execution_count": 8,
   "metadata": {},
   "outputs": [
    {
     "data": {
      "text/plain": [
       "0     80.588773\n",
       "1    944.379157\n",
       "2     34.322036\n",
       "3     32.703952\n",
       "4    477.089968\n",
       "Name: r_est, dtype: float64"
      ]
     },
     "execution_count": 8,
     "metadata": {},
     "output_type": "execute_result"
    }
   ],
   "source": [
    "tess_gaia[0:5]['r_est']"
   ]
  },
  {
   "cell_type": "code",
   "execution_count": 9,
   "metadata": {},
   "outputs": [
    {
     "data": {
      "text/plain": [
       "0    1.107963\n",
       "1    1.187740\n",
       "2    2.232726\n",
       "3    2.718326\n",
       "4    1.185687\n",
       "dtype: float64"
      ]
     },
     "execution_count": 9,
     "metadata": {},
     "output_type": "execute_result"
    }
   ],
   "source": [
    "tess_gaia[0:5]['phot_bp_mean_mag'] - tess_gaia[0:5]['phot_rp_mean_mag']"
   ]
  },
  {
   "cell_type": "code",
   "execution_count": 10,
   "metadata": {},
   "outputs": [],
   "source": [
    "tics = tess_gaia['ticid']\n",
    "dist = tess_gaia['r_est'].values*u.pc\n",
    "Gbp_min_Grp = tess_gaia['phot_bp_mean_mag'] - tess_gaia['phot_rp_mean_mag']"
   ]
  },
  {
   "cell_type": "code",
   "execution_count": 11,
   "metadata": {},
   "outputs": [
    {
     "name": "stdout",
     "output_type": "stream",
     "text": [
      "Index(['Zini', 'MH', 'logAge', 'Mini', 'int_IMF', 'Mass', 'logL', 'logTe',\n",
      "       'logg', 'label', 'McoreTP', 'C_O', 'period0', 'period1', 'pmode',\n",
      "       'Mloss', 'tau1m', 'X', 'Y', 'Xc', 'Xn', 'Xo', 'Cexcess', 'Z', 'mbolmag',\n",
      "       'TESSmag', 'Jmag', 'Hmag', 'Ksmag', 'Keplermag', 'gmag', 'rmag', 'imag',\n",
      "       'zmag', 'DDO51_finfmag'],\n",
      "      dtype='object')\n",
      "Index(['Zini', 'MH', 'logAge', 'Mini', 'int_IMF', 'Mass', 'logL', 'logTe',\n",
      "       'logg', 'label', 'McoreTP', 'C_O', 'period0', 'period1', 'pmode',\n",
      "       'Mloss', 'tau1m', 'X', 'Y', 'Xc', 'Xn', 'Xo', 'Cexcess', 'Z', 'mbolmag',\n",
      "       'Gmag', 'G_BPbrmag', 'G_BPftmag', 'G_RPmag'],\n",
      "      dtype='object')\n"
     ]
    }
   ],
   "source": [
    "iso_table1 = pd.read_csv('output221284170243.dat.txt', comment='#', delim_whitespace=True)\n",
    "iso_table2 = pd.read_csv('output768246532491.dat.txt', comment='#', delim_whitespace=True)\n",
    "print(iso_table1.columns)\n",
    "print(iso_table2.columns)"
   ]
  },
  {
   "cell_type": "code",
   "execution_count": 12,
   "metadata": {},
   "outputs": [],
   "source": [
    "iso_table1['Gmag'] = iso_table2['Gmag']\n",
    "iso_table1['G_BPbrmag'] = iso_table2['G_BPbrmag']\n",
    "iso_table1['G_BPftmag'] = iso_table2['G_BPftmag']\n",
    "iso_table1['G_RPmag'] = iso_table2['G_RPmag']"
   ]
  },
  {
   "cell_type": "code",
   "execution_count": 13,
   "metadata": {},
   "outputs": [],
   "source": [
    "iso_table1.to_csv('isochrones.txt')"
   ]
  },
  {
   "cell_type": "code",
   "execution_count": 14,
   "metadata": {},
   "outputs": [
    {
     "name": "stdout",
     "output_type": "stream",
     "text": [
      "Index(['Unnamed: 0', 'Zini', 'MH', 'logAge', 'Mini', 'int_IMF', 'Mass', 'logL',\n",
      "       'logTe', 'logg', 'label', 'McoreTP', 'C_O', 'period0', 'period1',\n",
      "       'pmode', 'Mloss', 'tau1m', 'X', 'Y', 'Xc', 'Xn', 'Xo', 'Cexcess', 'Z',\n",
      "       'mbolmag', 'TESSmag', 'Jmag', 'Hmag', 'Ksmag', 'Keplermag', 'gmag',\n",
      "       'rmag', 'imag', 'zmag', 'DDO51_finfmag', 'Gmag', 'G_BPbrmag',\n",
      "       'G_BPftmag', 'G_RPmag'],\n",
      "      dtype='object')\n"
     ]
    }
   ],
   "source": [
    "iso = pd.read_csv('isochrones.txt')\n",
    "print(iso.columns)"
   ]
  },
  {
   "cell_type": "code",
   "execution_count": 15,
   "metadata": {},
   "outputs": [
    {
     "data": {
      "image/png": "[encoded data removed]",
      "text/plain": [
       "<Figure size 432x288 with 2 Axes>"
      ]
     },
     "metadata": {
      "needs_background": "light"
     },
     "output_type": "display_data"
    }
   ],
   "source": [
    "# These are absolute mags\n",
    "G_B = iso['G_BPbrmag'].values[::-1]\n",
    "G_R = iso['G_RPmag'].values[::-1]\n",
    "G_mag = iso['Gmag'].values[::-1]\n",
    "T = iso['TESSmag'].values[::-1]\n",
    "BminR = G_B - G_R\n",
    "mask = (G_B > 4) & (BminR > 0) & (BminR < 4.5)\n",
    "plt.scatter(BminR[mask], G_B[mask], c=T[mask])\n",
    "plt.gca().invert_yaxis()\n",
    "plt.xlabel('B_bp - G_rp')\n",
    "plt.ylabel('Gmag')\n",
    "plt.colorbar(label='TESS mag')\n",
    "\n",
    "TESS_mag_int = np.interp(Gbp_min_Grp, BminR[mask], T[mask])"
   ]
  },
  {
   "cell_type": "code",
   "execution_count": 16,
   "metadata": {},
   "outputs": [
    {
     "data": {
      "text/latex": [
       "$[3.2756874 \\times 10^{32},~2.6105259 \\times 10^{32},~2.4713557 \\times 10^{31},~\\dots,~2.7767669 \\times 10^{30},~8.9159099 \\times 10^{32},~2.0233478 \\times 10^{32}] \\; \\mathrm{\\frac{erg}{s}}$"
      ],
      "text/plain": [
       "<Quantity [3.27568742e+32, 2.61052587e+32, 2.47135568e+31, ...,\n",
       "           2.77676689e+30, 8.91590988e+32, 2.02334782e+32] erg / s>"
      ]
     },
     "execution_count": 16,
     "metadata": {},
     "output_type": "execute_result"
    }
   ],
   "source": [
    "# Zero point TESS flux (from Sullivan 2017)\n",
    "Tf0 = 4.03e-6*u.erg/u.s/u.cm**2\n",
    "\n",
    "# TESS apparent magnitude\n",
    "m_t = TESS_mag_int + 5*np.log10(dist.value) - 5\n",
    "f = 10**(-m_t/2.5)*Tf0\n",
    "L = 4*np.pi*(dist.to(u.cm))**2*f\n",
    "L"
   ]
  },
  {
   "cell_type": "code",
   "execution_count": 17,
   "metadata": {},
   "outputs": [],
   "source": [
    "# Not sure to convert TESS mags into luminosity, lets just use GAIA G band for now\n",
    "#G = tess_gaia['phot_g_mean_mag']\n",
    "#Mbol = 4.74\n",
    "#L = 10**((Mbol-G)/2.5)"
   ]
  },
  {
   "cell_type": "code",
   "execution_count": 18,
   "metadata": {},
   "outputs": [
    {
     "data": {
      "text/plain": [
       "0        4613644974485983104\n",
       "1        4613782413441133696\n",
       "2        4613787700545468800\n",
       "3        4613787704840817664\n",
       "4        4613916485140439168\n",
       "5        4614483077225903232\n",
       "6        4614776676894701440\n",
       "7        4614836703357503104\n",
       "8        4614864607761106432\n",
       "9        4614897558749924352\n",
       "10       4614919308462547072\n",
       "11       4614931093854496640\n",
       "12       4614969851639215488\n",
       "13       4615026270329620608\n",
       "14       4615055854064590208\n",
       "15       4615110932725370624\n",
       "16       4615112032236982656\n",
       "17       4615164636996477696\n",
       "18       4615201775577968896\n",
       "19       4615252456190967424\n",
       "20       4615264623834941440\n",
       "21       4615337225962072448\n",
       "22       4615347911841098240\n",
       "23       4615407349891806336\n",
       "24       4615479127384787072\n",
       "25       4615487171860512384\n",
       "26       4615487996494226304\n",
       "27       4615518439222361856\n",
       "28       4615556475452740480\n",
       "29       4615559602188919552\n",
       "                ...         \n",
       "18539    6764567310746461824\n",
       "18540    6764585315249574016\n",
       "18541    6764666576031119488\n",
       "18542    6764678395781277056\n",
       "18543    6764694201260348160\n",
       "18544    6764717531523105408\n",
       "18545    6764736360659628672\n",
       "18546    6764749962816284160\n",
       "18547    6764754296443212032\n",
       "18548    6764766833447831040\n",
       "18549    6764834217194619392\n",
       "18550    6764855623312806784\n",
       "18551    6764873833973142144\n",
       "18552    6764884622931136512\n",
       "18553    6764887474789582080\n",
       "18554    6764902249476696960\n",
       "18555    6764986946231591296\n",
       "18556    6765003297167284736\n",
       "18557    6765015533533835136\n",
       "18558    6765059204761087744\n",
       "18559    6765062949972709888\n",
       "18560    6765068688049553152\n",
       "18561    6765078102617681152\n",
       "18562    6765081641670894848\n",
       "18563    6765118715827464832\n",
       "18564    6765146371119429376\n",
       "18565    6765539485184006912\n",
       "18566    6765558967156008832\n",
       "18567    6765574016721363328\n",
       "18568    6765585664672770432\n",
       "Name: source_id, Length: 118887, dtype: int64"
      ]
     },
     "execution_count": 18,
     "metadata": {},
     "output_type": "execute_result"
    }
   ],
   "source": [
    "tess_gaia['source_id']"
   ]
  },
  {
   "cell_type": "code",
   "execution_count": 29,
   "metadata": {},
   "outputs": [],
   "source": [
    "f_out = pd.DataFrame({'TIC':tics, 'r_est':dist, 'lum':L, 'G_BPbrmag':tess_gaia['phot_bp_mean_mag'], \\\n",
    "                      'G_RPmag':tess_gaia['phot_rp_mean_mag'], 'G_mag':tess_gaia['phot_g_mean_mag'],\\\n",
    "                       'source_id':tess_gaia['source_id'], 'ra':tess_gaia['ra'], 'dec':tess_gaia['dec']})\n",
    "f_out.to_csv('ticGAIA1to13.csv')"
   ]
  },
  {
   "cell_type": "code",
   "execution_count": 30,
   "metadata": {},
   "outputs": [
    {
     "data": {
      "text/plain": [
       "0         4613644974485983104\n",
       "1         4613782413441133696\n",
       "2         4613787700545468800\n",
       "3         4613787704840817664\n",
       "4         4613916485140439168\n",
       "5         4614483077225903232\n",
       "6         4614776676894701440\n",
       "7         4614836703357503104\n",
       "8         4614864607761106432\n",
       "9         4614897558749924352\n",
       "10        4614919308462547072\n",
       "11        4614931093854496640\n",
       "12        4614969851639215488\n",
       "13        4615026270329620608\n",
       "14        4615055854064590208\n",
       "15        4615110932725370624\n",
       "16        4615112032236982656\n",
       "17        4615164636996477696\n",
       "18        4615201775577968896\n",
       "19        4615252456190967424\n",
       "20        4615264623834941440\n",
       "21        4615337225962072448\n",
       "22        4615347911841098240\n",
       "23        4615407349891806336\n",
       "24        4615479127384787072\n",
       "25        4615487171860512384\n",
       "26        4615487996494226304\n",
       "27        4615518439222361856\n",
       "28        4615556475452740480\n",
       "29        4615559602188919552\n",
       "                 ...         \n",
       "118857    6764567310746461824\n",
       "118858    6764585315249574016\n",
       "118859    6764666576031119488\n",
       "118860    6764678395781277056\n",
       "118861    6764694201260348160\n",
       "118862    6764717531523105408\n",
       "118863    6764736360659628672\n",
       "118864    6764749962816284160\n",
       "118865    6764754296443212032\n",
       "118866    6764766833447831040\n",
       "118867    6764834217194619392\n",
       "118868    6764855623312806784\n",
       "118869    6764873833973142144\n",
       "118870    6764884622931136512\n",
       "118871    6764887474789582080\n",
       "118872    6764902249476696960\n",
       "118873    6764986946231591296\n",
       "118874    6765003297167284736\n",
       "118875    6765015533533835136\n",
       "118876    6765059204761087744\n",
       "118877    6765062949972709888\n",
       "118878    6765068688049553152\n",
       "118879    6765078102617681152\n",
       "118880    6765081641670894848\n",
       "118881    6765118715827464832\n",
       "118882    6765146371119429376\n",
       "118883    6765539485184006912\n",
       "118884    6765558967156008832\n",
       "118885    6765574016721363328\n",
       "118886    6765585664672770432\n",
       "Name: source_id, Length: 118887, dtype: int64"
      ]
     },
     "execution_count": 30,
     "metadata": {},
     "output_type": "execute_result"
    }
   ],
   "source": [
    "dfa = pd.read_csv('ticGAIA1to13.csv')\n",
    "dfa['source_id']"
   ]
  },
  {
   "cell_type": "code",
   "execution_count": null,
   "metadata": {},
   "outputs": [],
   "source": []
  }
 ],
 "metadata": {
  "kernelspec": {
   "display_name": "Python 3",
   "language": "python",
   "name": "python3"
  },
  "language_info": {
   "codemirror_mode": {
    "name": "ipython",
    "version": 3
   },
   "file_extension": ".py",
   "mimetype": "text/x-python",
   "name": "python",
   "nbconvert_exporter": "python",
   "pygments_lexer": "ipython3",
   "version": "3.7.3"
  }
 },
 "nbformat": 4,
 "nbformat_minor": 2
}
