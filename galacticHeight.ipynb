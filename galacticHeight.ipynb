{
 "cells": [
  {
   "cell_type": "code",
   "execution_count": 1,
   "metadata": {},
   "outputs": [],
   "source": [
    "%matplotlib inline\n",
    "import matplotlib as mpl\n",
    "import matplotlib.pylab as plt\n",
    "import numpy as np\n",
    "import pandas as pd\n",
    "import astropy.units as u\n",
    "from os import path\n",
    "\n",
    "import astropy.coordinates as coord\n",
    "import astropy.units as u"
   ]
  },
  {
   "cell_type": "code",
   "execution_count": 2,
   "metadata": {},
   "outputs": [],
   "source": [
    "prefix = '1to13'\n",
    "path = '/astro/store/gradscratch/tmp/scw7/tessData/lightcurves/sec1to13/'\n",
    "log_path = path + 'log/'"
   ]
  },
  {
   "cell_type": "code",
   "execution_count": 3,
   "metadata": {},
   "outputs": [
    {
     "data": {
      "text/plain": [
       "7495"
      ]
     },
     "execution_count": 3,
     "metadata": {},
     "output_type": "execute_result"
    }
   ],
   "source": [
    "df = pd.read_csv(prefix + '_filt_flare_out.csv')\n",
    "df_param = pd.read_csv(prefix + '_filt_param_out.csv')\n",
    "len(df)"
   ]
  },
  {
   "cell_type": "code",
   "execution_count": 33,
   "metadata": {},
   "outputs": [
    {
     "name": "stdout",
     "output_type": "stream",
     "text": [
      "7495 5747 118887\n"
     ]
    }
   ],
   "source": [
    "# Match flare detections to gaia\n",
    "tic_gaia_table = pd.read_csv('ticGAIA1to13.csv')\n",
    "df_g = pd.merge(tic_gaia_table, df, on='TIC', how='inner')\n",
    "df_g = df_g.dropna(subset=['lum'])\n",
    "ed = (df_g['ed'].values*u.day).to(u.s)\n",
    "ed_err = (df_g['ed_err'].values*u.day).to(u.s)\n",
    "energy = (ed*df_g['lum']*u.erg/u.s).value\n",
    "energy_err = (ed_err*df_g['lum']*u.erg/u.s).value\n",
    "df_g['energy'] = energy\n",
    "df_g['energy_err'] = energy_err\n",
    "print(len(df), len(df_g), len(tic_gaia_table))"
   ]
  },
  {
   "cell_type": "code",
   "execution_count": 5,
   "metadata": {},
   "outputs": [
    {
     "data": {
      "text/plain": [
       "Index(['Unnamed: 0', 'TIC', 'r_est', 'lum', 'G_BPbrmag', 'G_RPmag', 'G_mag',\n",
       "       'source_id', 'ra', 'dec'],\n",
       "      dtype='object')"
      ]
     },
     "execution_count": 5,
     "metadata": {},
     "output_type": "execute_result"
    }
   ],
   "source": [
    "tic_gaia_table.columns"
   ]
  },
  {
   "cell_type": "code",
   "execution_count": 35,
   "metadata": {},
   "outputs": [],
   "source": [
    "c_fl = coord.SkyCoord(ra=df_g['ra'].values*u.deg, dec=df_g['dec'].values*u.deg, \\\n",
    "                      distance=df_g['r_est'].values*u.pc)\n",
    "c_all = coord.SkyCoord(ra=tic_gaia_table['ra'].values*u.deg, dec=tic_gaia_table['dec'].values*u.deg, \\\n",
    "                      distance=tic_gaia_table['r_est'].values*u.pc)"
   ]
  },
  {
   "cell_type": "code",
   "execution_count": 36,
   "metadata": {},
   "outputs": [],
   "source": [
    "# Only care about z, distance from galactic center doesnt matter\n",
    "galcen = c_fl.transform_to(coord.Galactocentric(z_sun=0*u.pc, galcen_distance=8.1*u.kpc))\n",
    "df_g['gal_z'] = np.fabs(galcen.z)\n",
    "galcen = c_all.transform_to(coord.Galactocentric(z_sun=0*u.pc, galcen_distance=8.1*u.kpc))\n",
    "tic_gaia_table['gal_z'] = np.fabs(galcen.z)"
   ]
  },
  {
   "cell_type": "code",
   "execution_count": 53,
   "metadata": {},
   "outputs": [
    {
     "data": {
      "text/plain": [
       "<matplotlib.legend.Legend at 0x7fab362a4d30>"
      ]
     },
     "execution_count": 53,
     "metadata": {},
     "output_type": "execute_result"
    },
    {
     "data": {
      "image/png": "[encoded data removed]",
      "text/plain": [
       "<Figure size 1152x576 with 2 Axes>"
      ]
     },
     "metadata": {
      "needs_background": "light"
     },
     "output_type": "display_data"
    }
   ],
   "source": [
    "fig, axes = plt.subplots(figsize=(16,8), nrows=1, ncols=2)\n",
    "\n",
    "zmin, zmax, nbins = 0, 200, 10\n",
    "\n",
    "hist_all, bins_all = np.histogram(tic_gaia_table['gal_z'], bins=np.linspace(zmin, zmax, nbins))\n",
    "bins_all = 0.5*(bins_all[1:] + bins_all[:-1])\n",
    "axes[0].plot(bins_all, hist_all, linestyle='steps-mid', label='All TESS-GAIA')\n",
    "\n",
    "hist_fl, bins_fl = np.histogram(df_g['gal_z'], bins=np.linspace(zmin, zmax, nbins))\n",
    "bins_fl = 0.5*(bins_fl[1:] + bins_fl[:-1])\n",
    "axes[0].plot(bins_fl, hist_fl, linestyle='steps-mid', label='Flare TESS-GAIA')\n",
    "\n",
    "axes[0].set_yscale('log')\n",
    "axes[0].set_xlabel('$z$ [{0:latex_inline}]'.format(galcen.z.unit))\n",
    "axes[0].set_ylabel('dn/dz')\n",
    "axes[0].legend()\n",
    "\n",
    "axes[1].plot(bins_all, hist_fl/hist_all, linestyle='steps-mid', label='Flare/All')\n",
    "axes[1].set_xlabel('$z$ [{0:latex_inline}]'.format(galcen.z.unit))\n",
    "axes[1].set_ylabel('dn/dz')\n",
    "axes[1].legend()"
   ]
  },
  {
   "cell_type": "code",
   "execution_count": null,
   "metadata": {},
   "outputs": [],
   "source": []
  }
 ],
 "metadata": {
  "kernelspec": {
   "display_name": "Python 3",
   "language": "python",
   "name": "python3"
  },
  "language_info": {
   "codemirror_mode": {
    "name": "ipython",
    "version": 3
   },
   "file_extension": ".py",
   "mimetype": "text/x-python",
   "name": "python",
   "nbconvert_exporter": "python",
   "pygments_lexer": "ipython3",
   "version": "3.7.3"
  }
 },
 "nbformat": 4,
 "nbformat_minor": 2
}
